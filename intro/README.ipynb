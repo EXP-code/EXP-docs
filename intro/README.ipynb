{
 "cells": [
  {
   "cell_type": "markdown",
   "id": "98ffabc5",
   "metadata": {},
   "source": [
    "### This links to the Github pyEXP-examples repository\n",
    "### [Click here](https://github.com/EXP-code/pyEXP-examples/blob/main/Tutorials/README.md) to leave ReadTheDocs go to Github..."
   ]
  }
 ],
 "metadata": {
  "kernelspec": {
   "display_name": "Python 3 (ipykernel)",
   "language": "python",
   "name": "python3"
  },
  "language_info": {
   "codemirror_mode": {
    "name": "ipython",
    "version": 3
   },
   "file_extension": ".py",
   "mimetype": "text/x-python",
   "name": "python",
   "nbconvert_exporter": "python",
   "pygments_lexer": "ipython3",
   "version": "3.12.3"
  }
 },
 "nbformat": 4,
 "nbformat_minor": 5
}
